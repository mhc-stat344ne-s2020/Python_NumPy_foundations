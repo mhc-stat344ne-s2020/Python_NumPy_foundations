{
 "cells": [
  {
   "cell_type": "markdown",
   "metadata": {},
   "source": [
    "## Python and NumPy Foundations\n",
    "\n",
    "You can skip reading this section if you are already comfortable with the basics of Jupyter notebooks and Python.  This is here in case you are less familiar with Python or want a review.  This document is adapated from the [Python Numpy tutorial](cs231n.github.io/python-numpy-tutorial/) for CS231n at Stanford.  I've tried to focus on just what we'll need for this class; you can find more topics in the CS231n tutorial, but discussed in less depth.\n",
    "\n",
    "### Jupyter notebooks\n",
    "\n",
    "This document is a Jupyter notebook.  Notebooks comprise a series of cells, each of which is either a Markdown cell or a Code cell (actually there are a couple of other types of cells, but we won't use them).  Markdown cells contain text or mathematics, and code cells contain Python code.\n",
    "\n",
    "You can run a cell by clicking on it so that your cursor is in the cell, and then pressing the `shift` and `enter` (or `return`) keys on your keyboard, or by clicking the \"Run\" arrow in the toolbar at the top of the screen.  For a Markdown cell, this will just make the text look nice.  For a code cell, this will execute the code.  When a code cell has successfully run, a number will appear in square brackets to the left of the cell (the numbers show the order in which cells were run)."
   ]
  },
  {
   "cell_type": "markdown",
   "metadata": {},
   "source": [
    "### Basic data types\n",
    "\n",
    "We will work with four basic data types in this class: integers (type `int`), real numbers (type `float`), booleans (True/False, type `bool`), and text strings (type `string`).  These are briefly illustrated below:\n",
    "\n",
    "**Integers:** (`int`)"
   ]
  },
  {
   "cell_type": "code",
   "execution_count": 2,
   "metadata": {},
   "outputs": [
    {
     "name": "stdout",
     "output_type": "stream",
     "text": [
      "<class 'int'>\n",
      "1.5\n",
      "<class 'float'>\n"
     ]
    }
   ],
   "source": [
    "a = 3\n",
    "\n",
    "# The type of an integer is 'int'\n",
    "print(type(a))\n",
    "\n",
    "# Arithmetic operations work, and the result may be a different type:\n",
    "print(a/2)\n",
    "print(type(a/2))"
   ]
  },
  {
   "cell_type": "markdown",
   "metadata": {},
   "source": [
    "**Real Numbers:** (`float`)"
   ]
  },
  {
   "cell_type": "code",
   "execution_count": 3,
   "metadata": {},
   "outputs": [
    {
     "name": "stdout",
     "output_type": "stream",
     "text": [
      "<class 'float'>\n",
      "4.7\n"
     ]
    }
   ],
   "source": [
    "a = 3.0\n",
    "\n",
    "# The type of a real number is 'float'. This stands for floating point.\n",
    "# See https://en.wikipedia.org/wiki/Floating-point_arithmetic\n",
    "print(type(a))\n",
    "\n",
    "# Adding works\n",
    "print(a + 1.7)"
   ]
  },
  {
   "cell_type": "markdown",
   "metadata": {},
   "source": [
    "**Booleans:** (`bool`)"
   ]
  },
  {
   "cell_type": "code",
   "execution_count": 4,
   "metadata": {},
   "outputs": [
    {
     "name": "stdout",
     "output_type": "stream",
     "text": [
      "<class 'bool'>\n",
      "False\n",
      "True\n",
      "False\n"
     ]
    }
   ],
   "source": [
    "a = True\n",
    "b = False\n",
    "\n",
    "# The type of a boolean is 'bool'\n",
    "print(type(a))\n",
    "\n",
    "# Are both a and b True?  No, result is False\n",
    "print(a and b)\n",
    "\n",
    "# Is either a or b True?  Yes, result is True\n",
    "print(a or b)\n",
    "\n",
    "# What is the logical opposite of a?  `a` is True, so `not a` is False\n",
    "print(not a)"
   ]
  },
  {
   "cell_type": "markdown",
   "metadata": {},
   "source": [
    "**Text:** (`str`)"
   ]
  },
  {
   "cell_type": "code",
   "execution_count": 5,
   "metadata": {},
   "outputs": [
    {
     "name": "stdout",
     "output_type": "stream",
     "text": [
      "<class 'str'>\n",
      "I love cats! Dogs are great too!\n",
      "I have 2 cats =^.^=\n"
     ]
    }
   ],
   "source": [
    "a = \"I love cats!\"\n",
    "b = \"Dogs are great too!\"\n",
    "\n",
    "# The type of a text string is 'str'\n",
    "print(type(a))\n",
    "\n",
    "# \"adding\" strings concatenates them\n",
    "print(a + \" \" + b)\n",
    "\n",
    "# To concatenate with another variable type, you have to convert it to a string with str().\n",
    "num_cats = 2\n",
    "print(\"I have \" + str(num_cats) + \" cats =^.^=\")"
   ]
  },
  {
   "cell_type": "markdown",
   "metadata": {},
   "source": [
    "### Containers\n",
    "\n",
    "We often want to keep track of multiple values at once.  There are several types of container objects that can do this for us:\n",
    "\n",
    " * tuples: vectors where (for the most part) you can't change the values in the vector once it is created.  Created using round parentheses, `()`.\n",
    " * lists: vectors where you can modify the values and add new entries.  Created using square brackets, `[]`.\n",
    " * dictionaries: like a list, where each element has a name.  Created using curly brackets, `{}`.\n",
    "\n",
    "There are also many other types of containers in Python, but these are the basic ones we'll work with.  We will also see Numpy arrays (discussed in a separate section below) and Pandas dataframes (discussed in a separate document later).\n",
    "\n",
    "We'll see more about indexing containers in the Numpy section below, but here are the basics:\n",
    " * For tuples and lists, indexing starts at 0, so the first element of a container is accessed with `a[0]` and the second with `a[1]`.\n",
    " * You can access multiple elements with a `:`; for example, `a[0:2]` pulls out entries of `a` starting at entry 0 and going up to *but not including* entry 2.\n",
    " * A dictionary is indexed using the names.\n",
    "\n",
    "**Tuples:** Can't change, created with round parentheses `()`"
   ]
  },
  {
   "cell_type": "code",
   "execution_count": 6,
   "metadata": {},
   "outputs": [
    {
     "name": "stdout",
     "output_type": "stream",
     "text": [
      "Benedict\n",
      "Cosmos\n",
      "('Benedict', 'Cosmos')\n"
     ]
    },
    {
     "ename": "TypeError",
     "evalue": "'tuple' object does not support item assignment",
     "output_type": "error",
     "traceback": [
      "\u001b[0;31m---------------------------------------------------------------------------\u001b[0m",
      "\u001b[0;31mTypeError\u001b[0m                                 Traceback (most recent call last)",
      "\u001b[0;32m<ipython-input-6-b98487d05b2d>\u001b[0m in \u001b[0;36m<module>\u001b[0;34m\u001b[0m\n\u001b[1;32m      6\u001b[0m \u001b[0;34m\u001b[0m\u001b[0m\n\u001b[1;32m      7\u001b[0m \u001b[0;31m# This should throw an error since a tuple can't be modified:\u001b[0m\u001b[0;34m\u001b[0m\u001b[0;34m\u001b[0m\u001b[0;34m\u001b[0m\u001b[0m\n\u001b[0;32m----> 8\u001b[0;31m \u001b[0mcats\u001b[0m\u001b[0;34m[\u001b[0m\u001b[0;36m0\u001b[0m\u001b[0;34m]\u001b[0m \u001b[0;34m=\u001b[0m \u001b[0;34m\"Nimbus\"\u001b[0m\u001b[0;34m\u001b[0m\u001b[0;34m\u001b[0m\u001b[0m\n\u001b[0m",
      "\u001b[0;31mTypeError\u001b[0m: 'tuple' object does not support item assignment"
     ]
    }
   ],
   "source": [
    "cats = (\"Benedict\", \"Cosmos\", \"Mocha\")\n",
    "\n",
    "print(cats[0])\n",
    "print(cats[1])\n",
    "print(cats[0:2])\n",
    "\n",
    "# This should throw an error since a tuple can't be modified:\n",
    "cats[0] = \"Nimbus\""
   ]
  },
  {
   "cell_type": "markdown",
   "metadata": {},
   "source": [
    "**Lists:** Can change, created with square brackets `[]`"
   ]
  },
  {
   "cell_type": "code",
   "execution_count": 8,
   "metadata": {},
   "outputs": [
    {
     "name": "stdout",
     "output_type": "stream",
     "text": [
      "Benedict\n",
      "Cosmos\n",
      "['Benedict', 'Cosmos']\n",
      "['Nimbus', 'Cosmos', 'Mocha']\n"
     ]
    }
   ],
   "source": [
    "cats = [\"Benedict\", \"Cosmos\", \"Mocha\"]\n",
    "\n",
    "print(cats[0])\n",
    "print(cats[1])\n",
    "print(cats[0:2])\n",
    "\n",
    "# This will change the first entry of the list to \"Nimbus\"\n",
    "cats[0] = \"Nimbus\"\n",
    "print(cats)"
   ]
  },
  {
   "cell_type": "markdown",
   "metadata": {},
   "source": [
    "**Dictionaries:** Can change, elements are named, created with curly brackets `{}`"
   ]
  },
  {
   "cell_type": "code",
   "execution_count": 9,
   "metadata": {},
   "outputs": [
    {
     "name": "stdout",
     "output_type": "stream",
     "text": [
      "brown\n",
      "tortoise shell\n",
      "white\n"
     ]
    }
   ],
   "source": [
    "cats = {\n",
    "    \"Benedict\": \"grey tuxedo\",\n",
    "    \"Cosmos\": \"black\",\n",
    "    \"Mocha\": \"brown\"\n",
    "}\n",
    "\n",
    "# Access an element of a dictionary by name\n",
    "print(cats[\"Mocha\"])\n",
    "\n",
    "# Modify the value of an entry or add a new entry by indexing with the name\n",
    "cats[\"Mocha\"] = \"tortoise shell\"\n",
    "cats[\"Nimbus\"] = \"white\"\n",
    "print(cats[\"Mocha\"])\n",
    "print(cats[\"Nimbus\"])"
   ]
  },
  {
   "cell_type": "markdown",
   "metadata": {},
   "source": [
    "### Functions in Python\n",
    "\n",
    "A function is a re-usable piece of code.  Here is an example of a function that calculates $f(x, y) = 3x - 2y + 4$:"
   ]
  },
  {
   "cell_type": "code",
   "execution_count": 10,
   "metadata": {},
   "outputs": [],
   "source": [
    "def f(x, y):\n",
    "    '''\n",
    "    Compute 3x - 2y + 4\n",
    "    \n",
    "    Arguments:\n",
    "        x: a number\n",
    "        y: a number\n",
    "    \n",
    "    Returns:\n",
    "        3x - 2y + 4\n",
    "    '''\n",
    "    return 3*x - 2*y + 4"
   ]
  },
  {
   "cell_type": "markdown",
   "metadata": {},
   "source": [
    "Here is a break down of the elements this code:\n",
    " * `def` stands for `define`: we are going to define a new function\n",
    " * `f` is the name of the function.  We get to decide what we want to call the function.\n",
    " * `x, y` are the names of the *arguments* of the function.  This particular function has two arguments, `x` and `y`.  Each time we call the function, we can provide different values for these arguments.\n",
    " * The following text is a *docstring* for the function.  The first line of a docstring should describe what the function does in a sentence or two; the next part describes what the arguments to the function are; and the last part says what the function returns.\n",
    " * This function has only one line of actual code, which calculates the desired result and returns it.  Returning the result means that the code that calls this function will get to see what the result is.\n",
    "\n",
    "We can use code like the following to call the function.  By default, output from only the last line in a code cell will be displayed.  To see the results of two different calculations, we must explicitly `print` them."
   ]
  },
  {
   "cell_type": "code",
   "execution_count": 11,
   "metadata": {},
   "outputs": [
    {
     "name": "stdout",
     "output_type": "stream",
     "text": [
      "a = 12\n",
      "b = 10\n"
     ]
    }
   ],
   "source": [
    "a = f(4, 2)\n",
    "print(\"a = \" + str(a))\n",
    "b = f(0, -3)\n",
    "print(\"b = \" + str(b))"
   ]
  },
  {
   "cell_type": "markdown",
   "metadata": {},
   "source": [
    "### Numpy\n",
    "\n",
    "Numpy is a library for mathematical computing in Python.  We'll give a brief overview of the methods we'll use most in this class for creating and computing with Numpy arrays.\n",
    "\n",
    "#### Importing Numpy\n",
    "\n",
    "Import the Numpy library with the following command:"
   ]
  },
  {
   "cell_type": "code",
   "execution_count": 12,
   "metadata": {},
   "outputs": [],
   "source": [
    "import numpy as np"
   ]
  },
  {
   "cell_type": "markdown",
   "metadata": {},
   "source": [
    "Here is a break down of the code above:\n",
    "\n",
    " * `import` imports a library so that we can use the functionality it provides\n",
    " * `numpy` is the name of the library we want to import\n",
    " * `as np` means that below, we can access functions in numpy using `np.function_name` instead of `numpy.function_name`.  Three precious characters of typing saved!  It's standard to `import numpy as np`; you should stick with this convention so that other people can read your code more easily."
   ]
  },
  {
   "cell_type": "markdown",
   "metadata": {},
   "source": [
    "#### The shape of an array\n",
    "\n",
    "The code below creates two numpy arrays representing a row vector and a matrix (I don't think I'll ever ask you to create arrays using this manual approach, this is just for illustration):\n",
    "\n",
    "$$ a = \\begin{bmatrix} 1 & 2 \\end{bmatrix} \\qquad b = \\begin{bmatrix} 3 & 4 & 5 \\\\ 6 & 7 & 8 \\end{bmatrix}$$ "
   ]
  },
  {
   "cell_type": "code",
   "execution_count": 13,
   "metadata": {},
   "outputs": [
    {
     "name": "stdout",
     "output_type": "stream",
     "text": [
      "[[1 2]]\n",
      "[[3 4 5]\n",
      " [6 7 8]]\n"
     ]
    }
   ],
   "source": [
    "a = np.array([[1, 2]])\n",
    "b = np.array([[3, 4, 5],\n",
    "              [6, 7, 8]])\n",
    "print(a)\n",
    "print(b)"
   ]
  },
  {
   "cell_type": "markdown",
   "metadata": {},
   "source": [
    "The shape of an array is a tuple with its dimensions:"
   ]
  },
  {
   "cell_type": "code",
   "execution_count": 14,
   "metadata": {},
   "outputs": [
    {
     "name": "stdout",
     "output_type": "stream",
     "text": [
      "(1, 2)\n",
      "(2, 3)\n"
     ]
    }
   ],
   "source": [
    "# a has 1 row and 2 columns, so its shape is (1, 2)\n",
    "print(a.shape)\n",
    "\n",
    "# b has 2 rows and 3 columns, so its shape is (2, 3)\n",
    "print(b.shape)"
   ]
  },
  {
   "cell_type": "markdown",
   "metadata": {},
   "source": [
    "Arrays can also have more than two dimensions.  Here is an example of a 3-dimensional array obtained by stacking three $2 \\times 2$ matrices next to each other:"
   ]
  },
  {
   "cell_type": "code",
   "execution_count": 15,
   "metadata": {},
   "outputs": [
    {
     "name": "stdout",
     "output_type": "stream",
     "text": [
      "[[[ 1  2]\n",
      "  [ 3  4]]\n",
      "\n",
      " [[ 5  6]\n",
      "  [ 7  8]]\n",
      "\n",
      " [[ 9 10]\n",
      "  [11 12]]]\n",
      "(3, 2, 2)\n"
     ]
    }
   ],
   "source": [
    "c = np.array([[[1, 2],\n",
    "               [3, 4]],\n",
    "              [[5, 6],\n",
    "               [7, 8]],\n",
    "              [[9, 10],\n",
    "               [11, 12]]])\n",
    "print(c)\n",
    "print(c.shape)"
   ]
  },
  {
   "cell_type": "markdown",
   "metadata": {},
   "source": [
    "Arrays can also have just one dimension, but this causes problems so we will avoid it.\n",
    "\n",
    "#### Reshaping Arrays\n",
    "\n",
    "An array can be \"reshaped\", as long as the new dimensions you provide have the right amount of space for the entries in the original array.  This doesn't modify the shape of the array in place unless you assign the return value of reshape to the variable.  Here's an example:"
   ]
  },
  {
   "cell_type": "code",
   "execution_count": 16,
   "metadata": {},
   "outputs": [
    {
     "name": "stdout",
     "output_type": "stream",
     "text": [
      "the original shape of b is (2, 3)\n",
      "after setting shape to (1, 6), we have:\n",
      "[[3 4 5 6 7 8]]\n",
      "(1, 6)\n",
      "after setting shape to (1, 2, 3), we have:\n",
      "[[[3 4 5]\n",
      "  [6 7 8]]]\n",
      "(1, 2, 3)\n"
     ]
    },
    {
     "ename": "ValueError",
     "evalue": "cannot reshape array of size 6 into shape (5,10)",
     "output_type": "error",
     "traceback": [
      "\u001b[0;31m---------------------------------------------------------------------------\u001b[0m",
      "\u001b[0;31mValueError\u001b[0m                                Traceback (most recent call last)",
      "\u001b[0;32m<ipython-input-16-b46ce479b62f>\u001b[0m in \u001b[0;36m<module>\u001b[0;34m\u001b[0m\n\u001b[1;32m     18\u001b[0m \u001b[0;34m\u001b[0m\u001b[0m\n\u001b[1;32m     19\u001b[0m \u001b[0;31m# but we can't set the shape of b to (5, 10) since that has space for 50 elements, not 6:\u001b[0m\u001b[0;34m\u001b[0m\u001b[0;34m\u001b[0m\u001b[0;34m\u001b[0m\u001b[0m\n\u001b[0;32m---> 20\u001b[0;31m \u001b[0mb\u001b[0m \u001b[0;34m=\u001b[0m \u001b[0mb\u001b[0m\u001b[0;34m.\u001b[0m\u001b[0mreshape\u001b[0m\u001b[0;34m(\u001b[0m\u001b[0;34m(\u001b[0m\u001b[0;36m5\u001b[0m\u001b[0;34m,\u001b[0m \u001b[0;36m10\u001b[0m\u001b[0;34m)\u001b[0m\u001b[0;34m)\u001b[0m\u001b[0;34m\u001b[0m\u001b[0;34m\u001b[0m\u001b[0m\n\u001b[0m",
      "\u001b[0;31mValueError\u001b[0m: cannot reshape array of size 6 into shape (5,10)"
     ]
    }
   ],
   "source": [
    "b = np.array([[3, 4, 5],\n",
    "              [6, 7, 8]])\n",
    "\n",
    "# recall b has shape (2, 3), with 6 total elements:\n",
    "print(\"the original shape of b is \" + str(b.shape))\n",
    "\n",
    "# we can set the shape of b to (1, 6) since that also has 6 elements:\n",
    "b = b.reshape((1, 6))\n",
    "print(\"after setting shape to (1, 6), we have:\")\n",
    "print(b)\n",
    "print(b.shape)\n",
    "\n",
    "# we can also set the shape of b to (1, 2, 3) since that has space for 6 elements:\n",
    "b = b.reshape((1, 2, 3))\n",
    "print(\"after setting shape to (1, 2, 3), we have:\")\n",
    "print(b)\n",
    "print(b.shape)\n",
    "\n",
    "# but we can't set the shape of b to (5, 10) since that has space for 50 elements, not 6:\n",
    "b = b.reshape((5, 10))"
   ]
  },
  {
   "cell_type": "markdown",
   "metadata": {},
   "source": [
    "#### Creating Arrays\n",
    "\n",
    "Here are a few functions for creating numpy arrays:\n",
    "\n",
    "`np.zeros((2, 3))`: Create an array of 0s with shape (2, 3)"
   ]
  },
  {
   "cell_type": "code",
   "execution_count": 17,
   "metadata": {},
   "outputs": [
    {
     "name": "stdout",
     "output_type": "stream",
     "text": [
      "[[0. 0. 0.]\n",
      " [0. 0. 0.]]\n"
     ]
    }
   ],
   "source": [
    "a = np.zeros((2, 3))\n",
    "print(a)"
   ]
  },
  {
   "cell_type": "markdown",
   "metadata": {},
   "source": [
    "`np.random.standard_normal((2, 3))`: Create an array of shape (2, 3) where the entries are sampled independently from a Normal(0, 1) distribution."
   ]
  },
  {
   "cell_type": "code",
   "execution_count": 18,
   "metadata": {},
   "outputs": [
    {
     "name": "stdout",
     "output_type": "stream",
     "text": [
      "[[ 1.41655483 -0.20843947  1.22443222]\n",
      " [ 0.0440023  -2.84832004 -0.11162346]]\n"
     ]
    }
   ],
   "source": [
    "a = np.random.standard_normal((2, 3))\n",
    "print(a)"
   ]
  },
  {
   "cell_type": "markdown",
   "metadata": {},
   "source": [
    "`np.random.random((2, 3))`: Create an array of shape (2, 3) where the entries are sampled independently from a Uniform(0, 1) distribution (any real number between 0 and 1 is equally likely)."
   ]
  },
  {
   "cell_type": "code",
   "execution_count": 19,
   "metadata": {},
   "outputs": [
    {
     "name": "stdout",
     "output_type": "stream",
     "text": [
      "[[0.08555475 0.92183595 0.77323926]\n",
      " [0.73416495 0.73012579 0.76983056]]\n"
     ]
    }
   ],
   "source": [
    "a = np.random.random((2, 3))\n",
    "print(a)"
   ]
  },
  {
   "cell_type": "markdown",
   "metadata": {},
   "source": [
    "If you run the above cell multiple times, you will get different numbers in the array.  However, the \"random\" numbers numpy generates are not truly random.  They are generated with a deterministic algorithm that creates numbers that look random.  This algorithm takes a \"seed\", which basically encodes the current state of the random number generation.  If you set a seed, you will get the same numbers every time you run the code.  This can be helpful sometimes when you want to be sure your work is reproducible."
   ]
  },
  {
   "cell_type": "code",
   "execution_count": 20,
   "metadata": {},
   "outputs": [
    {
     "name": "stdout",
     "output_type": "stream",
     "text": [
      "[[0.00489252 0.87210551 0.89042912]\n",
      " [0.60619467 0.32693521 0.89276379]]\n"
     ]
    }
   ],
   "source": [
    "np.random.seed(89663)\n",
    "print(np.random.random((2, 3)))"
   ]
  },
  {
   "cell_type": "markdown",
   "metadata": {},
   "source": [
    "#### Array Indexing\n",
    "\n",
    "You can access and modify the elements of an array using square brackets.  You will need to specify the same number of indices as the dimension of the array.  Things to remember:\n",
    "\n",
    " * indexing starts at 0;\n",
    " * notation like `1:3` will select entries starting in position 1 and going up to but not including position 3;\n",
    " * a `:` by itself will select all entries along that dimension.\n",
    "\n",
    "Here are some examples:"
   ]
  },
  {
   "cell_type": "code",
   "execution_count": 21,
   "metadata": {},
   "outputs": [
    {
     "name": "stdout",
     "output_type": "stream",
     "text": [
      "the shape of b is (2, 3)\n",
      "the first element of b is 3\n",
      "the first two columns of b are [[3 4]\n",
      " [6 7]]\n",
      "the second row of b is [6 7 8]\n"
     ]
    }
   ],
   "source": [
    "b = np.array([[3, 4, 5],\n",
    "              [6, 7, 8]])\n",
    "\n",
    "# b has shape (2, 3)\n",
    "print(\"the shape of b is \" + str(b.shape))\n",
    "\n",
    "# the \"first\" element of the array, the number 3, is at position [0, 0]\n",
    "print(\"the first element of b is \" + str(b[0, 0]))\n",
    "\n",
    "# the : notation goes up to but not including the second index you provide\n",
    "print(\"the first two columns of b are \" + str(b[0:2, 0:2]))\n",
    "\n",
    "# a : by itself selects all values along that axis\n",
    "print(\"the second row of b is \" + str(b[1, :]))"
   ]
  },
  {
   "cell_type": "code",
   "execution_count": 22,
   "metadata": {},
   "outputs": [
    {
     "data": {
      "text/plain": [
       "2"
      ]
     },
     "execution_count": 22,
     "metadata": {},
     "output_type": "execute_result"
    }
   ],
   "source": [
    "c = np.array([[[1, 2],\n",
    "               [3, 4]],\n",
    "              [[5, 6],\n",
    "               [7, 8]],\n",
    "              [[9, 10],\n",
    "               [11, 12]]])\n",
    "\n",
    "# c has shape 3, 2, 2; when indexing, we need to provide indices for all 3 dimensions!\n",
    "c.shape\n",
    "\n",
    "# where is the number 2 in this array?\n",
    "c[0, 0, 1]"
   ]
  },
  {
   "cell_type": "markdown",
   "metadata": {},
   "source": [
    "### Mathematical Operations for Arrays\n",
    "\n",
    "#### Elementwise operations\n",
    "\n",
    "The operations `+`, `-`, `*`, and `/`, as well as functions like `np.sqrt`, `np.exp`, and `np.log` are applied separately to each element of arrays.\n",
    "\n",
    "If we are working with two arrays of different shapes, the smaller one will be *broadcasted* to a shape matching the larger, if their shapes are compatible.  You can think of this as stacking multiple copies of the smaller array next to each other until the shape matches the shape of the larger array.\n",
    "\n",
    "We'll illustrate with the following examples:"
   ]
  },
  {
   "cell_type": "code",
   "execution_count": 23,
   "metadata": {},
   "outputs": [
    {
     "name": "stdout",
     "output_type": "stream",
     "text": [
      "The shape of a is (2, 2)\n",
      "The shape of b is (2, 2)\n",
      "The shape of c is (1, 2)\n",
      "The shape of d is (1, 1)\n"
     ]
    }
   ],
   "source": [
    "a = np.array([[1, 2], [3, 4]])\n",
    "print(\"The shape of a is \" + str(a.shape))\n",
    "\n",
    "b = np.array([[5, 6], [7, 8]])\n",
    "print(\"The shape of b is \" + str(b.shape))\n",
    "\n",
    "c = np.array([[9, 10]])\n",
    "print(\"The shape of c is \" + str(c.shape))\n",
    "\n",
    "d = np.array([[13]])\n",
    "print(\"The shape of d is \" + str(d.shape))"
   ]
  },
  {
   "cell_type": "code",
   "execution_count": 24,
   "metadata": {},
   "outputs": [
    {
     "name": "stdout",
     "output_type": "stream",
     "text": [
      "a + b = [[ 6  8]\n",
      " [10 12]]\n",
      "a + c = [[10 12]\n",
      " [12 14]]\n",
      "a + d = [[14 15]\n",
      " [16 17]]\n"
     ]
    }
   ],
   "source": [
    "print(\"a + b = \" + str(a + b))\n",
    "print(\"a + c = \" + str(a + c))\n",
    "print(\"a + d = \" + str(a + d))"
   ]
  },
  {
   "cell_type": "code",
   "execution_count": 25,
   "metadata": {},
   "outputs": [
    {
     "name": "stdout",
     "output_type": "stream",
     "text": [
      "[[ 2.71828183  7.3890561 ]\n",
      " [20.08553692 54.59815003]]\n"
     ]
    }
   ],
   "source": [
    "print(np.exp(a))"
   ]
  },
  {
   "cell_type": "markdown",
   "metadata": {},
   "source": [
    "#### Row and column sums, means, and standard deviations\n",
    "\n",
    "The function `sum` will compute row and/or column sums of an array, `mean` will calculate row and/or column means, and `std` will calculate row and/or column standard deviations.  Some things to keep in mind:\n",
    "\n",
    " * The `axis` argument says which dimension of the array to sum over, take the mean of, or find the standard deviation of.  For example, if I'm working with a matrix then `axis = 0` says I want to add up values across different rows.\n",
    " * By default, the result will have a lower dimension (shorter shape) than the original array.  This is almost never what you want, and you can override the default by providing `keepdims = True`\n",
    "\n",
    "Here are some examples:"
   ]
  },
  {
   "cell_type": "code",
   "execution_count": 26,
   "metadata": {},
   "outputs": [
    {
     "name": "stdout",
     "output_type": "stream",
     "text": [
      "column sums = [ 9 11 13]\n",
      "column means = [4.5 5.5 6.5]\n",
      "row sums = [12 21]\n",
      "row and column sum = 33\n"
     ]
    }
   ],
   "source": [
    "b = np.array([[3, 4, 5],\n",
    "              [6, 7, 8]])\n",
    "\n",
    "# Sum across the rows (axis = 0) to get a total for each column\n",
    "col_sums = b.sum(axis = 0)\n",
    "print(\"column sums = \" + str(col_sums))\n",
    "\n",
    "# Take the mean of values across all rows (axis = 0) to get a mean for each column\n",
    "col_means = b.mean(axis = 0)\n",
    "print(\"column means = \" + str(col_means))\n",
    "\n",
    "# Sum across the columns (axis = 1) to get a total for each row\n",
    "row_sums = b.sum(axis = 1)\n",
    "print(\"row sums = \" + str(row_sums))\n",
    "\n",
    "# Sum across the columns (axis = 1) to get a total sum for the whole matrix\n",
    "total_sum = b.sum(axis = (0, 1))\n",
    "print(\"row and column sum = \" + str(total_sum))"
   ]
  },
  {
   "cell_type": "markdown",
   "metadata": {},
   "source": [
    "#### Matrix Operations\n",
    "\n",
    "The most common matrix operations we'll need are the transpose (`.T`) and the matrix product (`np.dot`):"
   ]
  },
  {
   "cell_type": "code",
   "execution_count": 27,
   "metadata": {},
   "outputs": [
    {
     "name": "stdout",
     "output_type": "stream",
     "text": [
      "The shape of a is (2, 2) and the shape of b is (2, 3)\n"
     ]
    }
   ],
   "source": [
    "a = np.array([[1, 2], [3, 4]])\n",
    "b = np.array([[3, 4, 5],\n",
    "              [6, 7, 8]])\n",
    "\n",
    "print(\"The shape of a is \" + str(a.shape) + \" and the shape of b is \" + str(b.shape))"
   ]
  },
  {
   "cell_type": "code",
   "execution_count": 28,
   "metadata": {},
   "outputs": [
    {
     "data": {
      "text/plain": [
       "array([[3, 6],\n",
       "       [4, 7],\n",
       "       [5, 8]])"
      ]
     },
     "execution_count": 28,
     "metadata": {},
     "output_type": "execute_result"
    }
   ],
   "source": [
    "# Here's the transpose of b\n",
    "b.T"
   ]
  },
  {
   "cell_type": "code",
   "execution_count": 29,
   "metadata": {},
   "outputs": [
    {
     "data": {
      "text/plain": [
       "array([[15, 18, 21],\n",
       "       [33, 40, 47]])"
      ]
     },
     "execution_count": 29,
     "metadata": {},
     "output_type": "execute_result"
    }
   ],
   "source": [
    "# Here's the matrix product of a and b\n",
    "np.dot(a, b)"
   ]
  },
  {
   "cell_type": "code",
   "execution_count": 30,
   "metadata": {},
   "outputs": [
    {
     "ename": "ValueError",
     "evalue": "shapes (2,3) and (2,2) not aligned: 3 (dim 1) != 2 (dim 0)",
     "output_type": "error",
     "traceback": [
      "\u001b[0;31m---------------------------------------------------------------------------\u001b[0m",
      "\u001b[0;31mValueError\u001b[0m                                Traceback (most recent call last)",
      "\u001b[0;32m<ipython-input-30-3bd398e7e8d8>\u001b[0m in \u001b[0;36m<module>\u001b[0;34m\u001b[0m\n\u001b[1;32m      1\u001b[0m \u001b[0;31m# Note that the matrix product requires the dimensions to match up!\u001b[0m\u001b[0;34m\u001b[0m\u001b[0;34m\u001b[0m\u001b[0;34m\u001b[0m\u001b[0m\n\u001b[0;32m----> 2\u001b[0;31m \u001b[0mnp\u001b[0m\u001b[0;34m.\u001b[0m\u001b[0mdot\u001b[0m\u001b[0;34m(\u001b[0m\u001b[0mb\u001b[0m\u001b[0;34m,\u001b[0m \u001b[0ma\u001b[0m\u001b[0;34m)\u001b[0m\u001b[0;34m\u001b[0m\u001b[0;34m\u001b[0m\u001b[0m\n\u001b[0m",
      "\u001b[0;32m<__array_function__ internals>\u001b[0m in \u001b[0;36mdot\u001b[0;34m(*args, **kwargs)\u001b[0m\n",
      "\u001b[0;31mValueError\u001b[0m: shapes (2,3) and (2,2) not aligned: 3 (dim 1) != 2 (dim 0)"
     ]
    }
   ],
   "source": [
    "# Note that the matrix product requires the dimensions to match up!\n",
    "np.dot(b, a)"
   ]
  },
  {
   "cell_type": "markdown",
   "metadata": {},
   "source": [
    "#### Logical Comparisons and Type Conversions\n",
    "\n",
    "Suppose I have the array\n",
    "\n",
    "$$b = \\begin{bmatrix} 3 & 4 & 5 \\\\ 6 & 7 & 8 \\end{bmatrix}$$ \n",
    "\n",
    "I want to check whether or not each element is at least as large as 7 as follows.  Note that the result is the same shape as the original array b, but now every element is a boolean:"
   ]
  },
  {
   "cell_type": "code",
   "execution_count": 32,
   "metadata": {},
   "outputs": [
    {
     "name": "stdout",
     "output_type": "stream",
     "text": [
      "[[False False False]\n",
      " [False  True  True]]\n"
     ]
    }
   ],
   "source": [
    "b = np.array([[3, 4, 5],\n",
    "              [6, 7, 8]])\n",
    "result = b >= 7\n",
    "print(result)"
   ]
  },
  {
   "cell_type": "markdown",
   "metadata": {},
   "source": [
    "Often, we would like to convert the results of this back to numbers (0 if False, 1 if True).  We can do that with the `astype` function:"
   ]
  },
  {
   "cell_type": "code",
   "execution_count": 35,
   "metadata": {},
   "outputs": [
    {
     "name": "stdout",
     "output_type": "stream",
     "text": [
      "[[0. 0. 0.]\n",
      " [0. 1. 1.]]\n"
     ]
    }
   ],
   "source": [
    "result = result.astype(float)\n",
    "print(result)"
   ]
  }
 ],
 "metadata": {
  "kernelspec": {
   "display_name": "Python 3",
   "language": "python",
   "name": "python3"
  },
  "language_info": {
   "codemirror_mode": {
    "name": "ipython",
    "version": 3
   },
   "file_extension": ".py",
   "mimetype": "text/x-python",
   "name": "python",
   "nbconvert_exporter": "python",
   "pygments_lexer": "ipython3",
   "version": "3.7.5"
  }
 },
 "nbformat": 4,
 "nbformat_minor": 2
}
